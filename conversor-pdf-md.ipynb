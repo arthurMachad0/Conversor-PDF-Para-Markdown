{
 "cells": [
  {
   "cell_type": "code",
   "execution_count": 3,
   "id": "1445fb8a",
   "metadata": {},
   "outputs": [
    {
     "name": "stdout",
     "output_type": "stream",
     "text": [
      "✔ Convertido: \"LIDOS\\out-só_veio_a_introdução.pdf\" → \"out-só_veio_a_introdução.md\"\n",
      "✔ Convertido: \"LIDOS\\SlidesIDV_muito_bom_BETS.pdf\" → \"SlidesIDV_muito_bom_BETS.md\"\n",
      "✔ Convertido: \"LIDOS\\TOMADA_DE_DECISÃO_EM_AMBIENTE_DE_RISCO_UMA_AVALIAÇÃO_SOB_A.pdf\" → \"TOMADA_DE_DECISÃO_EM_AMBIENTE_DE_RISCO_UMA_AVALIAÇÃO_SOB_A.md\"\n",
      "✔ Convertido: \"LIDOS\\V3802101.pdf\" → \"V3802101.md\"\n"
     ]
    }
   ],
   "source": [
    "import os\n",
    "from docling.document_converter import DocumentConverter as dc\n",
    "\n",
    "def convert_pdfs_to_markdown(input_dir, output_dir=None):\n",
    "    \"\"\"\n",
    "    Converte todos os PDFs de input_dir em arquivos .md.\n",
    "    Se output_dir for informado, salva lá; caso contrário, no cwd.\n",
    "    \"\"\"\n",
    "    converter = dc()\n",
    "    if output_dir:\n",
    "        os.makedirs(output_dir, exist_ok=True)\n",
    "\n",
    "    for entry in os.scandir(input_dir):\n",
    "        if entry.is_file() and entry.name.lower().endswith('.pdf'):\n",
    "            source_path = entry.path\n",
    "\n",
    "            result = converter.convert(source_path)\n",
    "            markdown = result.document.export_to_markdown()\n",
    "\n",
    "            base_name = os.path.splitext(entry.name)[0]\n",
    "            output_filename = base_name + '.md'\n",
    "            if output_dir:\n",
    "                output_path = os.path.join(output_dir, output_filename)\n",
    "            else:\n",
    "                output_path = output_filename\n",
    "\n",
    "            with open(output_path, 'w', encoding='utf-8') as f:\n",
    "                f.write(markdown)\n",
    "\n",
    "            print(f'✔ Convertido: \"{source_path}\" → \"{output_path}\"')\n",
    "\n",
    "if __name__ == '__main__':\n",
    "    pasta_de_pdfs = 'LIDOS'\n",
    "    pasta_de_saida = 'SAIDA'\n",
    "    pasta_de_saida = None\n",
    "\n",
    "    convert_pdfs_to_markdown(pasta_de_pdfs, pasta_de_saida)\n"
   ]
  }
 ],
 "metadata": {
  "kernelspec": {
   "display_name": "venv",
   "language": "python",
   "name": "python3"
  },
  "language_info": {
   "codemirror_mode": {
    "name": "ipython",
    "version": 3
   },
   "file_extension": ".py",
   "mimetype": "text/x-python",
   "name": "python",
   "nbconvert_exporter": "python",
   "pygments_lexer": "ipython3",
   "version": "3.11.6"
  }
 },
 "nbformat": 4,
 "nbformat_minor": 5
}
